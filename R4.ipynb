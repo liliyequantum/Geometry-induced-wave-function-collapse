{
 "cells": [
  {
   "cell_type": "code",
   "execution_count": 1,
   "id": "6eb79b6d",
   "metadata": {},
   "outputs": [],
   "source": [
    "from scipy.special import gamma, factorial\n",
    "import numpy as np\n",
    "import matplotlib.pyplot as plt\n",
    "import scipy.special as special\n",
    "\n",
    "def K_1j_nu_0(nu_0,x):\n",
    "    sMax=100\n",
    "    Error=1e-20\n",
    "\n",
    "    amplitude=-np.sqrt(nu_0*np.pi/np.sinh(nu_0*np.pi))\n",
    "    multiplication=1\n",
    "    K_1j_nu_0=0\n",
    "    for s in np.arange(0,sMax+1):\n",
    "        multiplication=multiplication*(s**2+nu_0**2)\n",
    "        phi_nu_0_s=np.angle(gamma(1+s+1j*nu_0))\n",
    "        Sum=np.sin(nu_0*np.log(x/2)-phi_nu_0_s)*(x**2/4)**(s)/np.math.factorial(s)/np.sqrt(multiplication)\n",
    "        K_1j_nu_0=K_1j_nu_0+Sum\n",
    "        if(np.size(Sum)==1):\n",
    "                Sum=np.append(Sum,0)\n",
    "        if(max(abs(Sum))<Error):\n",
    "            break\n",
    "    if(s==sMax):\n",
    "        print(\"K_1j_nu_0 don't converge\")\n",
    "    K_1j_nu_0=amplitude*K_1j_nu_0\n",
    "    return(K_1j_nu_0)\n",
    "\n",
    "def DK_1j_nu_0(nu_0,x):\n",
    "    sMax=100\n",
    "    Error=1e-20\n",
    "\n",
    "    amplitude=-np.sqrt(nu_0*np.pi/np.sinh(nu_0*np.pi))\n",
    "    multiplication=1\n",
    "    DK_1j_nu_0=0\n",
    "    for s in np.arange(0,sMax+1):\n",
    "        multiplication=multiplication*(s**2+nu_0**2)\n",
    "        phi_nu_0_s=np.angle(gamma(1+s+1j*nu_0))\n",
    "        derivative=nu_0/2*np.cos(nu_0*np.log(x/2)-phi_nu_0_s)+s*np.sin(nu_0*np.log(x/2)-phi_nu_0_s)\n",
    "        Sum=(x**2/4)**(s)/np.math.factorial(s)/np.sqrt(multiplication)*2/x*derivative\n",
    "        DK_1j_nu_0=DK_1j_nu_0+Sum\n",
    "        if(np.size(Sum)==1):\n",
    "                Sum=np.append(Sum,0)\n",
    "        if(max(abs(Sum))<Error):\n",
    "            break\n",
    "    if(s==sMax):\n",
    "        print(\"DK_1j_nu_0 don't converge\")\n",
    "    DK_1j_nu_0=amplitude*DK_1j_nu_0\n",
    "    return(DK_1j_nu_0)\n"
   ]
  },
  {
   "cell_type": "code",
   "execution_count": 42,
   "id": "e2c383f2",
   "metadata": {},
   "outputs": [],
   "source": [
    "nu_0=0.5\n",
    "rho_0=0.01\n",
    "k_0=np.arange(0.1,1,0.01)\n",
    "\n",
    "zeta_0=np.sqrt(-k_0**2+nu_0**2/rho_0**2)\n",
    "J_0=special.jn(0,zeta_0*rho_0)\n",
    "K=K_1j_nu_0(nu_0,k_0*rho_0)\n",
    "J_1=special.jn(1,zeta_0*rho_0)\n",
    "DK=DK_1j_nu_0(nu_0,k_0*rho_0)"
   ]
  },
  {
   "cell_type": "code",
   "execution_count": 43,
   "id": "e6c853c7",
   "metadata": {},
   "outputs": [
    {
     "name": "stdout",
     "output_type": "stream",
     "text": [
      "74.06380703826308\n"
     ]
    }
   ],
   "source": [
    "f1=-special.jn(0,nu_0)/special.jn(1,nu_0)\n",
    "f2=np.arctan(1/f1)\n",
    "f3=f2+np.angle(gamma(1+1j*nu_0))\n",
    "k_0=2/rho_0*np.exp(f3/nu_0)\n",
    "print(k_0)"
   ]
  },
  {
   "cell_type": "code",
   "execution_count": 41,
   "id": "a383dd99",
   "metadata": {},
   "outputs": [
    {
     "data": {
      "text/plain": [
       "2.6881171418161356e+43"
      ]
     },
     "execution_count": 41,
     "metadata": {},
     "output_type": "execute_result"
    }
   ],
   "source": [
    "np.exp(100)"
   ]
  },
  {
   "cell_type": "code",
   "execution_count": null,
   "id": "4671c688",
   "metadata": {},
   "outputs": [],
   "source": []
  }
 ],
 "metadata": {
  "kernelspec": {
   "display_name": "Python 3",
   "language": "python",
   "name": "python3"
  },
  "language_info": {
   "codemirror_mode": {
    "name": "ipython",
    "version": 3
   },
   "file_extension": ".py",
   "mimetype": "text/x-python",
   "name": "python",
   "nbconvert_exporter": "python",
   "pygments_lexer": "ipython3",
   "version": "3.8.8"
  }
 },
 "nbformat": 4,
 "nbformat_minor": 5
}
